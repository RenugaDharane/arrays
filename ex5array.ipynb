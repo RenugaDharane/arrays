{
 "cells": [
  {
   "cell_type": "code",
   "execution_count": 1,
   "metadata": {},
   "outputs": [
    {
     "name": "stdout",
     "output_type": "stream",
     "text": [
      "['Ford', 'Volvo', 'BMW']\n"
     ]
    }
   ],
   "source": [
    "#1\n",
    "cars = [\"Ford\", \"Volvo\", \"BMW\"]\n",
    "\n",
    "print(cars)\n"
   ]
  },
  {
   "cell_type": "code",
   "execution_count": 2,
   "metadata": {},
   "outputs": [
    {
     "name": "stdout",
     "output_type": "stream",
     "text": [
      "Ford\n"
     ]
    }
   ],
   "source": [
    "#2\n",
    "cars = [\"Ford\", \"Volvo\", \"BMW\"]\n",
    "\n",
    "x = cars[0]\n",
    "\n",
    "print(x)\n"
   ]
  },
  {
   "cell_type": "code",
   "execution_count": 3,
   "metadata": {},
   "outputs": [
    {
     "name": "stdout",
     "output_type": "stream",
     "text": [
      "['Toyota', 'Volvo', 'BMW']\n"
     ]
    }
   ],
   "source": [
    "#3\n",
    "cars = [\"Ford\", \"Volvo\", \"BMW\"]\n",
    "\n",
    "cars[0] = \"Toyota\"\n",
    "\n",
    "print(cars)\n"
   ]
  },
  {
   "cell_type": "code",
   "execution_count": 4,
   "metadata": {},
   "outputs": [
    {
     "name": "stdout",
     "output_type": "stream",
     "text": [
      "3\n"
     ]
    }
   ],
   "source": [
    "#4\n",
    "cars = [\"Ford\", \"Volvo\", \"BMW\"]\n",
    "\n",
    "x = len(cars)\n",
    "\n",
    "print(x)\n"
   ]
  },
  {
   "cell_type": "code",
   "execution_count": 5,
   "metadata": {},
   "outputs": [
    {
     "name": "stdout",
     "output_type": "stream",
     "text": [
      "Ford\n",
      "Volvo\n",
      "BMW\n"
     ]
    }
   ],
   "source": [
    "#5\n",
    "cars = [\"Ford\", \"Volvo\", \"BMW\"]\n",
    "\n",
    "for x in cars:\n",
    "  print(x)\n"
   ]
  },
  {
   "cell_type": "code",
   "execution_count": 6,
   "metadata": {},
   "outputs": [
    {
     "name": "stdout",
     "output_type": "stream",
     "text": [
      "['Ford', 'Volvo', 'BMW', 'Honda']\n"
     ]
    }
   ],
   "source": [
    "#6\n",
    "cars = [\"Ford\", \"Volvo\", \"BMW\"]\n",
    "\n",
    "cars.append(\"Honda\")\n",
    "\n",
    "print(cars)\n"
   ]
  },
  {
   "cell_type": "code",
   "execution_count": 7,
   "metadata": {},
   "outputs": [
    {
     "name": "stdout",
     "output_type": "stream",
     "text": [
      "['Ford', 'BMW']\n"
     ]
    }
   ],
   "source": [
    "#7\n",
    "cars = [\"Ford\", \"Volvo\", \"BMW\"]\n",
    "\n",
    "cars.pop(1)\n",
    "\n",
    "print(cars)\n"
   ]
  },
  {
   "cell_type": "code",
   "execution_count": 8,
   "metadata": {},
   "outputs": [],
   "source": [
    "#8\n",
    "fruits = ['apple', 'banana', 'cherry']\n",
    "\n",
    "cars = ['Ford', 'BMW', 'Volvo']\n",
    "\n",
    "fruits.extend(cars)\n"
   ]
  },
  {
   "cell_type": "code",
   "execution_count": 9,
   "metadata": {},
   "outputs": [],
   "source": [
    "#9\n",
    "fruits = ['apple', 'banana', 'cherry']\n",
    "\n",
    "fruits.reverse()\n"
   ]
  },
  {
   "cell_type": "code",
   "execution_count": 10,
   "metadata": {},
   "outputs": [],
   "source": [
    "#10\n",
    "fruits = ['apple', 'banana', 'cherry']\n",
    "\n",
    "x = fruits.count(\"cherry\")\n"
   ]
  },
  {
   "cell_type": "code",
   "execution_count": 1,
   "metadata": {},
   "outputs": [
    {
     "name": "stdout",
     "output_type": "stream",
     "text": [
      "['renuga', 'renita', 'regina']\n"
     ]
    }
   ],
   "source": [
    "#11\n",
    "name = [\"renuga\",\"renita\",\"regina\"]\n",
    "print(name)"
   ]
  },
  {
   "cell_type": "code",
   "execution_count": 2,
   "metadata": {},
   "outputs": [
    {
     "name": "stdout",
     "output_type": "stream",
     "text": [
      "regina\n"
     ]
    }
   ],
   "source": [
    "#12\n",
    "name = (\"renuga\",\"renita\",\"regina\")\n",
    "print(name[2])"
   ]
  },
  {
   "cell_type": "code",
   "execution_count": 10,
   "metadata": {},
   "outputs": [
    {
     "name": "stdout",
     "output_type": "stream",
     "text": [
      "['fish', 'dog', 'rabbit']\n"
     ]
    }
   ],
   "source": [
    "#13\n",
    "pet = [\"cat\", \"dog\", \"rabbit\"]\n",
    "\n",
    "pet[0] = \"fish\"\n",
    "\n",
    "print(pet)\n"
   ]
  },
  {
   "cell_type": "code",
   "execution_count": 12,
   "metadata": {},
   "outputs": [
    {
     "name": "stdout",
     "output_type": "stream",
     "text": [
      "3\n"
     ]
    }
   ],
   "source": [
    "#14\n",
    "pet = [\"cat\", \"dog\", \"rabbit\"]\n",
    "x= len(pet)\n",
    "print(x)"
   ]
  },
  {
   "cell_type": "code",
   "execution_count": 13,
   "metadata": {},
   "outputs": [
    {
     "name": "stdout",
     "output_type": "stream",
     "text": [
      "cat\n",
      "dog\n",
      "rabbit\n"
     ]
    }
   ],
   "source": [
    "#15\n",
    "pet = [\"cat\", \"dog\", \"rabbit\"]\n",
    "for x in pet:\n",
    "    print(x)\n",
    "    "
   ]
  },
  {
   "cell_type": "code",
   "execution_count": 14,
   "metadata": {},
   "outputs": [
    {
     "name": "stdout",
     "output_type": "stream",
     "text": [
      "['cat', 'dog', 'rabbit', 'fish']\n"
     ]
    }
   ],
   "source": [
    "#16\n",
    "pet = [\"cat\", \"dog\", \"rabbit\"]\n",
    "pet.append(\"fish\")\n",
    "print(pet)"
   ]
  },
  {
   "cell_type": "code",
   "execution_count": 15,
   "metadata": {},
   "outputs": [
    {
     "name": "stdout",
     "output_type": "stream",
     "text": [
      "['cat', 'dog']\n"
     ]
    }
   ],
   "source": [
    "#17\n",
    "pet = [\"cat\", \"dog\", \"rabbit\"]\n",
    "pet.pop()\n",
    "print(pet)"
   ]
  },
  {
   "cell_type": "code",
   "execution_count": 17,
   "metadata": {},
   "outputs": [
    {
     "name": "stdout",
     "output_type": "stream",
     "text": [
      "['cat', 'rabbit']\n"
     ]
    }
   ],
   "source": [
    "#18\n",
    "pet = [\"cat\", \"dog\", \"rabbit\"]\n",
    "pet.remove(\"dog\")\n",
    "print(pet)"
   ]
  },
  {
   "cell_type": "code",
   "execution_count": 18,
   "metadata": {},
   "outputs": [
    {
     "name": "stdout",
     "output_type": "stream",
     "text": [
      "['rabbit', 'dog', 'cat']\n"
     ]
    }
   ],
   "source": [
    "#19\n",
    "pet = [\"cat\", \"dog\", \"rabbit\"]\n",
    "pet.reverse()\n",
    "print(pet)"
   ]
  },
  {
   "cell_type": "code",
   "execution_count": 21,
   "metadata": {},
   "outputs": [
    {
     "name": "stdout",
     "output_type": "stream",
     "text": [
      "4\n"
     ]
    }
   ],
   "source": [
    "#20\n",
    "pet = [\"cat\", \"dog\", \"rabbit\",\"fish\"]\n",
    "print(len(pet))"
   ]
  },
  {
   "cell_type": "code",
   "execution_count": null,
   "metadata": {},
   "outputs": [],
   "source": []
  }
 ],
 "metadata": {
  "kernelspec": {
   "display_name": "Python 3",
   "language": "python",
   "name": "python3"
  },
  "language_info": {
   "codemirror_mode": {
    "name": "ipython",
    "version": 3
   },
   "file_extension": ".py",
   "mimetype": "text/x-python",
   "name": "python",
   "nbconvert_exporter": "python",
   "pygments_lexer": "ipython3",
   "version": "3.8.3"
  }
 },
 "nbformat": 4,
 "nbformat_minor": 4
}
